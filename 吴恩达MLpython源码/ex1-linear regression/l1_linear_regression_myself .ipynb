{
 "cells": [
  {
   "cell_type": "code",
   "execution_count": 1,
   "metadata": {
    "collapsed": true
   },
   "outputs": [],
   "source": [
    "import numpy as np\n",
    "import pandas as pd \n",
    "import tensorflow as tf\n",
    "import seaborn as sns\n",
    "sns.set(context='notebook',style='whitegrid',palette='dark')\n",
    "import matplotlib.pyplot as plt"
   ]
  },
  {
   "cell_type": "code",
   "execution_count": 2,
   "metadata": {
    "collapsed": true
   },
   "outputs": [],
   "source": [
    "df=pd.read_csv('ex1data1.txt',names=['population','profit'])   #读入文件并给每列明敏"
   ]
  },
  {
   "cell_type": "code",
   "execution_count": 3,
   "metadata": {
    "scrolled": true
   },
   "outputs": [
    {
     "data": {
      "text/html": [
       "<div>\n",
       "<style>\n",
       "    .dataframe thead tr:only-child th {\n",
       "        text-align: right;\n",
       "    }\n",
       "\n",
       "    .dataframe thead th {\n",
       "        text-align: left;\n",
       "    }\n",
       "\n",
       "    .dataframe tbody tr th {\n",
       "        vertical-align: top;\n",
       "    }\n",
       "</style>\n",
       "<table border=\"1\" class=\"dataframe\">\n",
       "  <thead>\n",
       "    <tr style=\"text-align: right;\">\n",
       "      <th></th>\n",
       "      <th>population</th>\n",
       "      <th>profit</th>\n",
       "    </tr>\n",
       "  </thead>\n",
       "  <tbody>\n",
       "    <tr>\n",
       "      <th>0</th>\n",
       "      <td>6.1101</td>\n",
       "      <td>17.5920</td>\n",
       "    </tr>\n",
       "    <tr>\n",
       "      <th>1</th>\n",
       "      <td>5.5277</td>\n",
       "      <td>9.1302</td>\n",
       "    </tr>\n",
       "    <tr>\n",
       "      <th>2</th>\n",
       "      <td>8.5186</td>\n",
       "      <td>13.6620</td>\n",
       "    </tr>\n",
       "    <tr>\n",
       "      <th>3</th>\n",
       "      <td>7.0032</td>\n",
       "      <td>11.8540</td>\n",
       "    </tr>\n",
       "    <tr>\n",
       "      <th>4</th>\n",
       "      <td>5.8598</td>\n",
       "      <td>6.8233</td>\n",
       "    </tr>\n",
       "    <tr>\n",
       "      <th>5</th>\n",
       "      <td>8.3829</td>\n",
       "      <td>11.8860</td>\n",
       "    </tr>\n",
       "    <tr>\n",
       "      <th>6</th>\n",
       "      <td>7.4764</td>\n",
       "      <td>4.3483</td>\n",
       "    </tr>\n",
       "    <tr>\n",
       "      <th>7</th>\n",
       "      <td>8.5781</td>\n",
       "      <td>12.0000</td>\n",
       "    </tr>\n",
       "    <tr>\n",
       "      <th>8</th>\n",
       "      <td>6.4862</td>\n",
       "      <td>6.5987</td>\n",
       "    </tr>\n",
       "    <tr>\n",
       "      <th>9</th>\n",
       "      <td>5.0546</td>\n",
       "      <td>3.8166</td>\n",
       "    </tr>\n",
       "    <tr>\n",
       "      <th>10</th>\n",
       "      <td>5.7107</td>\n",
       "      <td>3.2522</td>\n",
       "    </tr>\n",
       "    <tr>\n",
       "      <th>11</th>\n",
       "      <td>14.1640</td>\n",
       "      <td>15.5050</td>\n",
       "    </tr>\n",
       "  </tbody>\n",
       "</table>\n",
       "</div>"
      ],
      "text/plain": [
       "    population   profit\n",
       "0       6.1101  17.5920\n",
       "1       5.5277   9.1302\n",
       "2       8.5186  13.6620\n",
       "3       7.0032  11.8540\n",
       "4       5.8598   6.8233\n",
       "5       8.3829  11.8860\n",
       "6       7.4764   4.3483\n",
       "7       8.5781  12.0000\n",
       "8       6.4862   6.5987\n",
       "9       5.0546   3.8166\n",
       "10      5.7107   3.2522\n",
       "11     14.1640  15.5050"
      ]
     },
     "execution_count": 3,
     "metadata": {},
     "output_type": "execute_result"
    }
   ],
   "source": [
    "df.head(12)"
   ]
  },
  {
   "cell_type": "code",
   "execution_count": 4,
   "metadata": {
    "scrolled": true
   },
   "outputs": [
    {
     "name": "stdout",
     "output_type": "stream",
     "text": [
      "<class 'pandas.core.frame.DataFrame'>\n",
      "RangeIndex: 97 entries, 0 to 96\n",
      "Data columns (total 2 columns):\n",
      "population    97 non-null float64\n",
      "profit        97 non-null float64\n",
      "dtypes: float64(2)\n",
      "memory usage: 1.6 KB\n"
     ]
    }
   ],
   "source": [
    "df.info()"
   ]
  },
  {
   "cell_type": "markdown",
   "metadata": {},
   "source": [
    "# 看下原始数据"
   ]
  },
  {
   "cell_type": "code",
   "execution_count": 5,
   "metadata": {},
   "outputs": [
    {
     "data": {
      "image/png": "[encoded data removed]",
      "text/plain": [
       "<matplotlib.figure.Figure at 0x7f054f199f98>"
      ]
     },
     "metadata": {},
     "output_type": "display_data"
    }
   ],
   "source": [
    "sns.lmplot('population','profit',df,size=6,fit_reg=False)\n",
    "plt.show()"
   ]
  },
  {
   "cell_type": "code",
   "execution_count": 6,
   "metadata": {
    "collapsed": true
   },
   "outputs": [],
   "source": [
    "def get_X(df):  #读取X数据，其实就是整个data的除了最后一列的数据\n",
    "    ones=pd.DataFrame({'ones':np.ones(len(df))})      #ones是m行1列的dataframe的数据\n",
    "    data=pd.concat([df,ones],axis=1)                  #水平合并数据\n",
    "    return np.array(data.iloc[:,:-1])                 #读取整个data除了最后一列之外的数据\n",
    "\n",
    "def get_y(df):  #读取y数据\n",
    "    return np.array(data.iloc[:,-1])                   #读取整个data最后一列的数据\n",
    "\n",
    "def normaliaze_feature(df):          #特征缩放\n",
    "     #就是把数据搞成均值为零，方差为1\n",
    "    return df.apply(lambda column:(column-column.mean())/column.std())\n",
    "    "
   ]
  },
  {
   "cell_type": "markdown",
   "metadata": {},
   "source": [
    "多变量的假设 h 表示为：\\\\[{{h}_{\\theta }}\\left( x \\right)={{\\theta }_{0}}+{{\\theta }_{1}}{{x}_{1}}+{{\\theta }_{2}}{{x}_{2}}+...+{{\\theta }_{n}}{{x}_{n}}\\\\] \n",
    "这个公式中有n+1个参数和n个变量，为了使得公式能够简化一些，引入${{x}_{0}}=1$，则公式转化为：  \n",
    "此时模型中的参数是一个n+1维的向量，任何一个训练实例也都是n+1维的向量，特征矩阵X的维度是 m*(n+1)。 因此公式可以简化为：${{h}_{\\theta }}\\left( x \\right)={{\\theta }^{T}}X$，其中上标T代表矩阵转置。"
   ]
  },
  {
   "cell_type": "code",
   "execution_count": 7,
   "metadata": {
    "collapsed": true
   },
   "outputs": [],
   "source": [
    "def linear_regression(X_data, y_data, alpha, epoch, optimizer=tf.train.GradientDescentOptimizer):# 这个函数是旧金山的一个大神Lucas Shen写的\n",
    "      # placeholder for graph input\n",
    "    X = tf.placeholder(tf.float32, shape=X_data.shape)\n",
    "    y = tf.placeholder(tf.float32, shape=y_data.shape)\n",
    "\n",
    "    # construct the graph\n",
    "    with tf.variable_scope('linearregressions'):\n",
    "        W = tf.get_variable(\"weights\",\n",
    "                            (X_data.shape[1], 1),\n",
    "                            initializer=tf.constant_initializer())  # n*1\n",
    "\n",
    "        y_pred = tf.matmul(X, W)  # m*n @ n*1 -> m*1\n",
    "\n",
    "        loss = 1 / (2 * len(X_data)) * tf.matmul((y_pred - y), (y_pred - y), transpose_a=True)  # (m*1).T @ m*1 = 1*1\n",
    "\n",
    "    opt = optimizer(learning_rate=alpha)\n",
    "    opt_operation = opt.minimize(loss)\n",
    "\n",
    "    # run the session\n",
    "    with tf.Session() as sess:\n",
    "        sess.run(tf.global_variables_initializer())\n",
    "        loss_data = []\n",
    "\n",
    "        for i in range(epoch):\n",
    "            _, loss_val, W_val = sess.run([opt_operation, loss, W], feed_dict={X: X_data, y: y_data})\n",
    "            loss_data.append(loss_val[0, 0])  # because every loss_val is 1*1 ndarray\n",
    "\n",
    "            if len(loss_data) > 1 and np.abs(loss_data[-1] - loss_data[-2]) < 10 ** -9:  # early break when it's converged\n",
    "                # print('Converged at epoch {}'.format(i))\n",
    "                break\n",
    "\n",
    "    # clear the graph\n",
    "    tf.reset_default_graph()\n",
    "    return {'loss': loss_data, 'parameters': W_val}  # just want to return in row vector format"
   ]
  },
  {
   "cell_type": "markdown",
   "metadata": {},
   "source": [
    "# 开始读入数据"
   ]
  },
  {
   "cell_type": "code",
   "execution_count": 8,
   "metadata": {},
   "outputs": [
    {
     "data": {
      "text/html": [
       "<div>\n",
       "<style>\n",
       "    .dataframe thead tr:only-child th {\n",
       "        text-align: right;\n",
       "    }\n",
       "\n",
       "    .dataframe thead th {\n",
       "        text-align: left;\n",
       "    }\n",
       "\n",
       "    .dataframe tbody tr th {\n",
       "        vertical-align: top;\n",
       "    }\n",
       "</style>\n",
       "<table border=\"1\" class=\"dataframe\">\n",
       "  <thead>\n",
       "    <tr style=\"text-align: right;\">\n",
       "      <th></th>\n",
       "      <th>population</th>\n",
       "      <th>profit</th>\n",
       "    </tr>\n",
       "  </thead>\n",
       "  <tbody>\n",
       "    <tr>\n",
       "      <th>0</th>\n",
       "      <td>6.1101</td>\n",
       "      <td>17.5920</td>\n",
       "    </tr>\n",
       "    <tr>\n",
       "      <th>1</th>\n",
       "      <td>5.5277</td>\n",
       "      <td>9.1302</td>\n",
       "    </tr>\n",
       "    <tr>\n",
       "      <th>2</th>\n",
       "      <td>8.5186</td>\n",
       "      <td>13.6620</td>\n",
       "    </tr>\n",
       "    <tr>\n",
       "      <th>3</th>\n",
       "      <td>7.0032</td>\n",
       "      <td>11.8540</td>\n",
       "    </tr>\n",
       "    <tr>\n",
       "      <th>4</th>\n",
       "      <td>5.8598</td>\n",
       "      <td>6.8233</td>\n",
       "    </tr>\n",
       "  </tbody>\n",
       "</table>\n",
       "</div>"
      ],
      "text/plain": [
       "   population   profit\n",
       "0      6.1101  17.5920\n",
       "1      5.5277   9.1302\n",
       "2      8.5186  13.6620\n",
       "3      7.0032  11.8540\n",
       "4      5.8598   6.8233"
      ]
     },
     "execution_count": 8,
     "metadata": {},
     "output_type": "execute_result"
    }
   ],
   "source": [
    "data=pd.read_csv('ex1data1.txt',names=['population','profit'])\n",
    "data.head()"
   ]
  },
  {
   "cell_type": "code",
   "execution_count": 9,
   "metadata": {},
   "outputs": [
    {
     "name": "stdout",
     "output_type": "stream",
     "text": [
      "(97, 2) <class 'numpy.ndarray'>\n",
      "(97,) <class 'numpy.ndarray'>\n"
     ]
    }
   ],
   "source": [
    "X=get_X(data)\n",
    "print(X.shape,type(X))\n",
    "y=get_y(data)\n",
    "print(y.shape,type(y))"
   ]
  },
  {
   "cell_type": "code",
   "execution_count": 10,
   "metadata": {},
   "outputs": [
    {
     "name": "stdout",
     "output_type": "stream",
     "text": [
      "(2,) <class 'numpy.ndarray'>\n"
     ]
    }
   ],
   "source": [
    "theta=np.zeros(X.shape[1])\n",
    "print(theta.shape,type(theta))"
   ]
  },
  {
   "cell_type": "markdown",
   "metadata": {},
   "source": [
    "# 计算代价函数\n",
    "$$J\\left( \\theta  \\right)=\\frac{1}{2m}\\sum\\limits_{i=1}^{m}{{{\\left( {{h}_{\\theta }}\\left( {{x}^{(i)}} \\right)-{{y}^{(i)}} \\right)}^{2}}}$$\n",
    "其中：\\\\[{{h}_{\\theta }}\\left( x \\right)={{X}}{\\theta}={{\\theta}_{0}}{{x}_{0}}+{{\\theta }_{1}}{{x}_{1}}+{{\\theta }_{2}}{{x}_{2}}+...+{{\\theta }_{n}}{{x}_{n}}\\\\] "
   ]
  },
  {
   "cell_type": "code",
   "execution_count": 11,
   "metadata": {
    "collapsed": true
   },
   "outputs": [],
   "source": [
    "def lr_cost(theta,X,y):\n",
    "    inner=(X@theta-y).T@(X@theta-y)      #@作用同np.dot(多维就是矩阵乘法，一维就是点积并求和！)\n",
    "    \n",
    "    cost=(1/(2*len(X)))*inner             \n",
    "    return cost\n",
    "    \n",
    "    "
   ]
  },
  {
   "cell_type": "code",
   "execution_count": 12,
   "metadata": {},
   "outputs": [
    {
     "data": {
      "text/plain": [
       "32.072733877455669"
      ]
     },
     "execution_count": 12,
     "metadata": {},
     "output_type": "execute_result"
    }
   ],
   "source": [
    "lr_cost(theta,X,y)\n",
    "\n"
   ]
  },
  {
   "cell_type": "markdown",
   "metadata": {},
   "source": [
    "# batch gradient decent（批量梯度下降）\n",
    "$${{\\theta }_{j}}:={{\\theta }_{j}}-\\alpha \\frac{\\partial }{\\partial {{\\theta }_{j}}}J\\left( \\theta  \\right)$$"
   ]
  },
  {
   "cell_type": "code",
   "execution_count": 13,
   "metadata": {
    "collapsed": true
   },
   "outputs": [],
   "source": [
    "def gradient(theta,X,y):\n",
    "    m=X.shape[0]\n",
    "    inner=X.T@(X@theta-y)\n",
    "    return inner/m\n",
    "    \n",
    "    "
   ]
  },
  {
   "cell_type": "code",
   "execution_count": 14,
   "metadata": {
    "collapsed": true
   },
   "outputs": [],
   "source": [
    "def batch_gradient(theta,X,y,epoch,alpha=0.01):\n",
    "    \n",
    "    cost_data=[lr_cost(theta,X,y)]\n",
    "    _theta=theta.copy()\n",
    "    for _ in range(epoch):\n",
    "        _theta=_theta-alpha*gradient(_theta,X,y)\n",
    "        cost_data.append(lr_cost(_theta,X,y))\n",
    "        \n",
    "    return _theta,cost_data\n",
    "        \n",
    "    "
   ]
  },
  {
   "cell_type": "code",
   "execution_count": 15,
   "metadata": {
    "collapsed": true
   },
   "outputs": [],
   "source": [
    "epoch=500\n",
    "final_theta,cost_data=batch_gradient(theta,X,y,epoch)"
   ]
  },
  {
   "cell_type": "code",
   "execution_count": 16,
   "metadata": {},
   "outputs": [
    {
     "data": {
      "text/plain": [
       "array([  2.66992347e-16,   1.00000000e+00])"
      ]
     },
     "execution_count": 16,
     "metadata": {},
     "output_type": "execute_result"
    }
   ],
   "source": [
    "final_theta"
   ]
  },
  {
   "cell_type": "code",
   "execution_count": 17,
   "metadata": {},
   "outputs": [
    {
     "data": {
      "text/plain": [
       "[32.072733877455669,\n",
       " 6.1919207269854146,\n",
       " 2.1361941533723625,\n",
       " 1.3689193341764805,\n",
       " 1.1147701223651465,\n",
       " 0.95587454300633468,\n",
       " 0.82728214086363927,\n",
       " 0.71714676053751425,\n",
       " 0.6218470738005305,\n",
       " 0.53923745292430592,\n",
       " 0.46760603392425387,\n",
       " 0.40549059551791877,\n",
       " 0.3516264797884957,\n",
       " 0.30491751946389012,\n",
       " 0.26441323308305875,\n",
       " 0.22928940928308722,\n",
       " 0.19883132401451914,\n",
       " 0.17241919517549698,\n",
       " 0.14951557060993215,\n",
       " 0.12965439162434714,\n",
       " 0.11243150929971532,\n",
       " 0.097496460590684952,\n",
       " 0.084545336862564949,\n",
       " 0.07331459974955766,\n",
       " 0.063575718494981864,\n",
       " 0.055130519650386053,\n",
       " 0.047807154506032151,\n",
       " 0.041456602195252962,\n",
       " 0.035949637315448264,\n",
       " 0.031174200360787267,\n",
       " 0.027033117458375423,\n",
       " 0.023442123007509523,\n",
       " 0.020328144985326119,\n",
       " 0.017627818027064483,\n",
       " 0.015286194024078778,\n",
       " 0.013255624001962483,\n",
       " 0.011494788526471839,\n",
       " 0.0099678569072830601,\n",
       " 0.0086437580904819879,\n",
       " 0.0074955484034067901,\n",
       " 0.0064998632862805199,\n",
       " 0.0056364418540923956,\n",
       " 0.0048877146141860202,\n",
       " 0.0042384459501489009,\n",
       " 0.0036754240970194776,\n",
       " 0.003187192299214501,\n",
       " 0.0027638156805931098,\n",
       " 0.0023966790827697963,\n",
       " 0.0020783117579510971,\n",
       " 0.0018022353490255052,\n",
       " 0.0015628320635009939,\n",
       " 0.0013552303588027191,\n",
       " 0.0011752058127769342,\n",
       " 0.0010190951622459582,\n",
       " 0.00088372176041154923,\n",
       " 0.0007663309362628451,\n",
       " 0.00066453394063760505,\n",
       " 0.00057625933831265705,\n",
       " 0.00049971085701645606,\n",
       " 0.00043333083564649981,\n",
       " 0.00037576852791074979,\n",
       " 0.00032585261641384668,\n",
       " 0.00028256737788581016,\n",
       " 0.00024503201454689365,\n",
       " 0.00021248273102910653,\n",
       " 0.00018425719214313851,\n",
       " 0.00015978104522678443,\n",
       " 0.00013855623282228347,\n",
       " 0.00012015085786085583,\n",
       " 0.00010419039512438166,\n",
       " 9.0350070148867198e-05,\n",
       " 7.8348250490459446e-05,\n",
       " 6.7940714874950933e-05,\n",
       " 5.8915683615441708e-05,\n",
       " 5.1089509173747996e-05,\n",
       " 4.4302939174085327e-05,\n",
       " 3.8417875826280418e-05,\n",
       " 3.3314565817043047e-05,\n",
       " 2.8889163487245057e-05,\n",
       " 2.5051617709086729e-05,\n",
       " 2.1723839463862961e-05,\n",
       " 1.8838112832949935e-05,\n",
       " 1.6335717067753556e-05,\n",
       " 1.4165731699563705e-05,\n",
       " 1.2284000374869042e-05,\n",
       " 1.0652232331523439e-05,\n",
       " 9.2372232320095815e-06,\n",
       " 8.0101794987580165e-06,\n",
       " 6.9461324026444581e-06,\n",
       " 6.0234299821304061e-06,\n",
       " 5.2232964542707715e-06,\n",
       " 4.5294501521787341e-06,\n",
       " 3.9277722144785314e-06,\n",
       " 3.406019285014655e-06,\n",
       " 2.953574376621547e-06,\n",
       " 2.5612308293783748e-06,\n",
       " 2.2210049671615172e-06,\n",
       " 1.9259736403193614e-06,\n",
       " 1.6701333486639882e-06,\n",
       " 1.4482780781245698e-06,\n",
       " 1.2558933651934101e-06,\n",
       " 1.0890644335233932e-06,\n",
       " 9.4439653336587052e-07,\n",
       " 8.1894586287060612e-07,\n",
       " 7.1015966558299383e-07,\n",
       " 6.1582428520143608e-07,\n",
       " 5.3402012057732985e-07,\n",
       " 4.6308256435211633e-07,\n",
       " 4.0156813038265641e-07,\n",
       " 3.4822508069298855e-07,\n",
       " 3.0196795425004379e-07,\n",
       " 2.6185547925632096e-07,\n",
       " 2.2707141950495069e-07,\n",
       " 1.9690796504396078e-07,\n",
       " 1.7075132917348656e-07,\n",
       " 1.4806925869135992e-07,\n",
       " 1.2840020324025e-07,\n",
       " 1.1134392336296564e-07,\n",
       " 9.6553346155207355e-08,\n",
       " 8.3727502787713179e-08,\n",
       " 7.260540418555484e-08,\n",
       " 6.2960730243137622e-08,\n",
       " 5.4597224507151932e-08,\n",
       " 4.734470061528177e-08,\n",
       " 4.1055579227435747e-08,\n",
       " 3.5601884979610894e-08,\n",
       " 3.0872642353493603e-08,\n",
       " 2.6771617469983715e-08,\n",
       " 2.3215359856569382e-08,\n",
       " 2.0131504339400979e-08,\n",
       " 1.7457298507207317e-08,\n",
       " 1.513832578188193e-08,\n",
       " 1.3127398112825785e-08,\n",
       " 1.1383595761843895e-08,\n",
       " 9.8714346404438751e-09,\n",
       " 8.5601442548319531e-09,\n",
       " 7.4230415671666188e-09,\n",
       " 6.4369880305371362e-09,\n",
       " 5.5819187499087393e-09,\n",
       " 4.8404341879848005e-09,\n",
       " 4.1974461073118326e-09,\n",
       " 3.6398705445874474e-09,\n",
       " 3.156361569074472e-09,\n",
       " 2.7370804078465107e-09,\n",
       " 2.3734952397235128e-09,\n",
       " 2.0582075838289331e-09,\n",
       " 1.7848017502662837e-09,\n",
       " 1.547714289270097e-09,\n",
       " 1.3421207822409091e-09,\n",
       " 1.1638376712056341e-09,\n",
       " 1.0092371289094403e-09,\n",
       " 8.7517323727438379e-10,\n",
       " 7.5891797210129565e-10,\n",
       " 6.5810569136063678e-10,\n",
       " 5.7068499748987264e-10,\n",
       " 4.9487699412382673e-10,\n",
       " 4.2913908792633705e-10,\n",
       " 3.721335987971245e-10,\n",
       " 3.227005398713484e-10,\n",
       " 2.7983401329671285e-10,\n",
       " 2.426617415324982e-10,\n",
       " 2.1042731763792757e-10,\n",
       " 1.8247481341171943e-10,\n",
       " 1.5823543209216593e-10,\n",
       " 1.3721593408419221e-10,\n",
       " 1.1898860019939337e-10,\n",
       " 1.0318252812201817e-10,\n",
       " 8.9476085036337288e-11,\n",
       " 7.75903628168684e-11,\n",
       " 6.7283502620017718e-11,\n",
       " 5.8345773373147462e-11,\n",
       " 5.0595304018186776e-11,\n",
       " 4.387438267987569e-11,\n",
       " 3.8046247431805288e-11,\n",
       " 3.2992303371905979e-11,\n",
       " 2.860970937363859e-11,\n",
       " 2.4809285403910898e-11,\n",
       " 2.1513697821589557e-11,\n",
       " 1.8655885746760158e-11,\n",
       " 1.6177696455584182e-11,\n",
       " 1.4028702049749839e-11,\n",
       " 1.2165173313793144e-11,\n",
       " 1.0549189884631226e-11,\n",
       " 9.1478686204615737e-12,\n",
       " 7.9326944734210099e-12,\n",
       " 6.8789402448819326e-12,\n",
       " 5.9651634194144043e-12,\n",
       " 5.1727698381755334e-12,\n",
       " 4.4856353333601896e-12,\n",
       " 3.8897776184888735e-12,\n",
       " 3.3730717722431759e-12,\n",
       " 2.9250035078639994e-12,\n",
       " 2.5364552252053088e-12,\n",
       " 2.1995204763497198e-12,\n",
       " 1.9073430816604025e-12,\n",
       " 1.6539776148580904e-12,\n",
       " 1.4342684211408181e-12,\n",
       " 1.2437447071392808e-12,\n",
       " 1.0785295650998551e-12,\n",
       " 9.3526108387241418e-13,\n",
       " 8.1102393763646356e-13,\n",
       " 7.0329006428872179e-13,\n",
       " 6.0986722023439774e-13,\n",
       " 5.2885437330233267e-13,\n",
       " 4.5860301889762378e-13,\n",
       " 3.9768363367896746e-13,\n",
       " 3.4485658837161648e-13,\n",
       " 2.9904692177835014e-13,\n",
       " 2.5932246763888986e-13,\n",
       " 2.2487488513864113e-13,\n",
       " 1.9500321142031873e-13,\n",
       " 1.6909959703502906e-13,\n",
       " 1.4663693744851944e-13,\n",
       " 1.2715814707832295e-13,\n",
       " 1.1026685805925951e-13,\n",
       " 9.5619354845221486e-14,\n",
       " 8.2917579951655469e-14,\n",
       " 7.1903068977227591e-14,\n",
       " 6.2351691018191447e-14,\n",
       " 5.4069088160396737e-14,\n",
       " 4.688672026016172e-14,\n",
       " 4.0658435495877932e-14,\n",
       " 3.5257496616636485e-14,\n",
       " 3.0574001469007717e-14,\n",
       " 2.651264709233264e-14,\n",
       " 2.2990790303576056e-14,\n",
       " 1.9936765874832062e-14,\n",
       " 1.7288428500468262e-14,\n",
       " 1.4991887916304248e-14,\n",
       " 1.3000412600328363e-14,\n",
       " 1.1273478623147374e-14,\n",
       " 9.7759450863838994e-15,\n",
       " 8.4773392379912714e-15,\n",
       " 7.3512361140181228e-15,\n",
       " 6.3747209978578161e-15,\n",
       " 5.5279230804441361e-15,\n",
       " 4.7936111277275434e-15,\n",
       " 4.1568428814762074e-15,\n",
       " 3.6046609269225222e-15,\n",
       " 3.1258290890579994e-15,\n",
       " 2.7106037701702942e-15,\n",
       " 2.3505356692781861e-15,\n",
       " 2.0382978825806492e-15,\n",
       " 1.7675367856314906e-15,\n",
       " 1.5327427488584298e-15,\n",
       " 1.3291380150277167e-15,\n",
       " 1.1525794957102939e-15,\n",
       " 9.9947444865943663e-16,\n",
       " 8.6670740097502154e-16,\n",
       " 7.5157670675506413e-16,\n",
       " 6.5173961798550275e-16,\n",
       " 5.6516457006397284e-16,\n",
       " 4.9008988548839351e-16,\n",
       " 4.2498788134404195e-16,\n",
       " 3.6853382719301157e-16,\n",
       " 3.1957894836051871e-16,\n",
       " 2.7712708017654417e-16,\n",
       " 2.403143899498175e-16,\n",
       " 2.0839178289936655e-16,\n",
       " 1.8070966912229037e-16,\n",
       " 1.5670476668876672e-16,\n",
       " 1.3588859824223566e-16,\n",
       " 1.1783757981322658e-16,\n",
       " 1.0218440629726783e-16,\n",
       " 8.861054976287201e-17,\n",
       " 7.6839802571540347e-17,\n",
       " 6.6632642346766409e-17,\n",
       " 5.778137082790873e-17,\n",
       " 5.0105875318116424e-17,\n",
       " 4.3449968034052302e-17,\n",
       " 3.7678211894397626e-17,\n",
       " 3.2673155637766939e-17,\n",
       " 2.8332956497076068e-17,\n",
       " 2.4569296186491898e-17,\n",
       " 2.1305589237441366e-17,\n",
       " 1.8475421607859307e-17,\n",
       " 1.6021203605572047e-17,\n",
       " 1.3892996627251998e-17,\n",
       " 1.2047495574656346e-17,\n",
       " 1.0447144670960585e-17,\n",
       " 9.0593789111536245e-18,\n",
       " 7.8559588476271655e-18,\n",
       " 6.8123978918447265e-18,\n",
       " 5.9074599491818423e-18,\n",
       " 5.1227314429904365e-18,\n",
       " 4.4422434625423301e-18,\n",
       " 3.8521497389986842e-18,\n",
       " 3.340442318204124e-18,\n",
       " 2.8967082921585102e-18,\n",
       " 2.511918973556829e-18,\n",
       " 2.1782436571904385e-18,\n",
       " 1.8888923714769688e-18,\n",
       " 1.637977980045113e-18,\n",
       " 1.4203940602087873e-18,\n",
       " 1.2317133173809547e-18,\n",
       " 1.0680963459541239e-18,\n",
       " 9.2621393437655548e-19,\n",
       " 8.031785448259269e-19,\n",
       " 6.9648680390760934e-19,\n",
       " 6.0396773303106659e-19,\n",
       " 5.2373874401251772e-19,\n",
       " 4.5416686515216644e-19,\n",
       " 3.9383674137429889e-19,\n",
       " 3.4152066957472649e-19,\n",
       " 2.9615410865773598e-19,\n",
       " 2.5681395627158608e-19,\n",
       " 2.2269958058869303e-19,\n",
       " 1.9311684522875768e-19,\n",
       " 1.674638392310117e-19,\n",
       " 1.4521843887922284e-19,\n",
       " 1.2592802585029037e-19,\n",
       " 1.0920015763864086e-19,\n",
       " 9.4694341945432032e-20,\n",
       " 8.2115413250965089e-20,\n",
       " 7.1207524718933236e-20,\n",
       " 6.1748471088044375e-20,\n",
       " 5.3546051347127836e-20,\n",
       " 4.6433160930091915e-20,\n",
       " 4.0265067236055712e-20,\n",
       " 3.4916413588856019e-20,\n",
       " 3.0278236763544225e-20,\n",
       " 2.6256187074842851e-20,\n",
       " 2.2768396292059161e-20,\n",
       " 1.9743951668199612e-20,\n",
       " 1.7121218649142014e-20,\n",
       " 1.4846868008972352e-20,\n",
       " 1.2874654064291491e-20,\n",
       " 1.1164408375305232e-20,\n",
       " 9.6814027173298824e-21,\n",
       " 8.3953507198242962e-21,\n",
       " 7.2801267099239879e-21,\n",
       " 6.313072965500172e-21,\n",
       " 5.4744535857487703e-21,\n",
       " 4.7472486962480821e-21,\n",
       " 4.1166315449372412e-21,\n",
       " 3.5697900488261971e-21,\n",
       " 3.0955812202047943e-21,\n",
       " 2.684369751746113e-21,\n",
       " 2.3277919732264706e-21,\n",
       " 2.0185824858479219e-21,\n",
       " 1.7504367665926716e-21,\n",
       " 1.517902844255773e-21,\n",
       " 1.316270189297405e-21,\n",
       " 1.1414204593408601e-21,\n",
       " 9.8980243058473924e-22,\n",
       " 8.5832080855142941e-22,\n",
       " 7.443011149206208e-22,\n",
       " 6.4543085637713732e-22,\n",
       " 5.5969438691214463e-22,\n",
       " 4.8534277120490079e-22,\n",
       " 4.2087049836839132e-22,\n",
       " 3.6496775764838034e-22,\n",
       " 3.1648929555529319e-22,\n",
       " 2.7444302799115061e-22,\n",
       " 2.3798733001583461e-22,\n",
       " 2.0637399546284091e-22,\n",
       " 1.7895868849932077e-22,\n",
       " 1.5518508314497378e-22,\n",
       " 1.3457228323366157e-22,\n",
       " 1.1669445061413617e-22,\n",
       " 1.0119531579663728e-22,\n",
       " 8.7751281447374519e-23,\n",
       " 7.6094508023149142e-23,\n",
       " 6.5985745423924415e-23,\n",
       " 5.7220691717276411e-23,\n",
       " 4.9618012764035653e-23,\n",
       " 4.3028991547177213e-23,\n",
       " 3.7314134366364851e-23,\n",
       " 3.2356527726976722e-23,\n",
       " 2.8057575992678466e-23,\n",
       " 2.433010251394553e-23,\n",
       " 2.1098094769999833e-23,\n",
       " 1.8294985482545014e-23,\n",
       " 1.5865808900727407e-23,\n",
       " 1.3758254210158567e-23,\n",
       " 1.1930133127467058e-23,\n",
       " 1.0345599127877732e-23,\n",
       " 8.9719420470582157e-24,\n",
       " 7.78013849758159e-24,\n",
       " 6.7470004252734369e-24,\n",
       " 5.8508035921098955e-24,\n",
       " 5.0729456601116225e-24,\n",
       " 4.3989563813492296e-24,\n",
       " 3.8142519678225991e-24,\n",
       " 3.3075996614034273e-24,\n",
       " 2.8680082484304348e-24,\n",
       " 2.4872470976416362e-24,\n",
       " 2.1567933862586308e-24,\n",
       " 1.8703749939881967e-24,\n",
       " 1.6221419867018548e-24,\n",
       " 1.4065747046497447e-24,\n",
       " 1.2200324788885159e-24,\n",
       " 1.0577684734700402e-24,\n",
       " 9.1729526154839177e-25,\n",
       " 7.9536353475212169e-25,\n",
       " 6.8968207572510806e-25,\n",
       " 5.9805296916462869e-25,\n",
       " 5.1859838159717303e-25,\n",
       " 4.495593964391227e-25,\n",
       " 3.8990185607856052e-25,\n",
       " 3.3817710180686662e-25,\n",
       " 2.9326714385950626e-25,\n",
       " 2.5431729797375738e-25,\n",
       " 2.2052404465405808e-25,\n",
       " 1.9125359601916788e-25,\n",
       " 1.6582812065188672e-25,\n",
       " 1.4380697061363308e-25,\n",
       " 1.2470249155541345e-25,\n",
       " 1.0814870039180031e-25,\n",
       " 9.3689978358931954e-26,\n",
       " 8.1342078122284225e-26,\n",
       " 7.0567677334920334e-26,\n",
       " 6.1136573124768367e-26,\n",
       " 5.3044771736569055e-26,\n",
       " 4.5971349951955613e-26,\n",
       " 3.9864407381919811e-26,\n",
       " 3.4573317176553794e-26,\n",
       " 2.9965358928809832e-26,\n",
       " 2.597417621157516e-26,\n",
       " 2.2503356356330369e-26,\n",
       " 1.956114902641289e-26,\n",
       " 1.6948953811107617e-26,\n",
       " 1.4691478255208644e-26,\n",
       " 1.2712646338967367e-26,\n",
       " 1.1042206297954944e-26,\n",
       " 9.5562681734835214e-27,\n",
       " 8.2964728225018399e-27,\n",
       " 7.2106822875792994e-27,\n",
       " 6.2562127829778731e-27,\n",
       " 5.4333141157098116e-27,\n",
       " 4.6934270913671759e-27,\n",
       " 4.065454982475176e-27,\n",
       " 3.530392168317026e-27,\n",
       " 3.0596055744112412e-27,\n",
       " 2.6467018559175055e-27,\n",
       " 2.297672354546403e-27,\n",
       " 1.9876725978412747e-27,\n",
       " 1.7253638739770297e-27,\n",
       " 1.4935392735882223e-27,\n",
       " 1.3046653809147666e-27,\n",
       " 1.1326462859900583e-27,\n",
       " 9.7874173760522641e-28,\n",
       " 8.4130678112531687e-28,\n",
       " 7.3516841655909532e-28,\n",
       " 6.3492851622826224e-28,\n",
       " 5.5262103697138939e-28,\n",
       " 4.8168464123414684e-28,\n",
       " 4.132739179679528e-28,\n",
       " 3.5671087241931775e-28,\n",
       " 3.0689472876790176e-28,\n",
       " 2.6814609045401607e-28,\n",
       " 2.3352458499730671e-28,\n",
       " 2.0443579181009356e-28,\n",
       " 1.7414973335273077e-28,\n",
       " 1.5195054354414184e-28,\n",
       " 1.3231464736184505e-28,\n",
       " 1.1498690475458919e-28,\n",
       " 9.8415020158187752e-29,\n",
       " 8.6038704453316319e-29,\n",
       " 7.447168436602429e-29,\n",
       " 6.2811719296715086e-29,\n",
       " 5.410549937475331e-29,\n",
       " 4.7961377811221269e-29,\n",
       " 4.0220771511500341e-29,\n",
       " 3.6377981362917582e-29,\n",
       " 3.1678009433457763e-29,\n",
       " 2.6796908756465294e-29,\n",
       " 2.4384707312552528e-29,\n",
       " 2.1968364126511933e-29,\n",
       " 1.8706458275093819e-29,\n",
       " 1.6670285718096112e-29,\n",
       " 1.4465461262813727e-29,\n",
       " 1.2836640758507012e-29,\n",
       " 1.0927647084661655e-29,\n",
       " 9.2115243745253458e-30,\n",
       " 7.9543606976104555e-30,\n",
       " 6.0892027776951831e-30,\n",
       " 6.1368467106287052e-30,\n",
       " 4.9379056828779504e-30,\n",
       " 4.3736360060995225e-30,\n",
       " 4.0722378972768599e-30,\n",
       " 3.7102901393984934e-30,\n",
       " 2.9272427629168281e-30,\n",
       " 2.5469132942908976e-30,\n",
       " 2.2351151637685443e-30,\n",
       " 1.9591194752639132e-30,\n",
       " 1.4661648002818779e-30,\n",
       " 1.4452218012577579e-30,\n",
       " 1.1770886721137179e-30,\n",
       " 6.8403869338185747e-31,\n",
       " 7.7031638390082954e-31,\n",
       " 7.2401067445443871e-31,\n",
       " 7.8289250788819942e-31,\n",
       " 7.2229520695758248e-31,\n",
       " 7.7031638390082954e-31,\n",
       " 7.2464206179703164e-31,\n",
       " 7.8289250788819942e-31,\n",
       " 7.2401067445443871e-31,\n",
       " 7.8289250788819942e-31,\n",
       " 7.2229520695758248e-31,\n",
       " 7.7031638390082954e-31]"
      ]
     },
     "execution_count": 17,
     "metadata": {},
     "output_type": "execute_result"
    }
   ],
   "source": [
    "cost_data\n"
   ]
  },
  {
   "cell_type": "code",
   "execution_count": 18,
   "metadata": {
    "scrolled": true
   },
   "outputs": [
    {
     "data": {
      "text/plain": [
       "7.7031638390082954e-31"
      ]
     },
     "execution_count": 18,
     "metadata": {},
     "output_type": "execute_result"
    }
   ],
   "source": [
    "lr_cost(final_theta,X,y)"
   ]
  },
  {
   "cell_type": "markdown",
   "metadata": {},
   "source": [
    "# visualize  cost data   数据可视化"
   ]
  },
  {
   "cell_type": "code",
   "execution_count": 19,
   "metadata": {},
   "outputs": [
    {
     "data": {
      "image/png": "[encoded data removed]",
      "text/plain": [
       "<matplotlib.figure.Figure at 0x7f054b846080>"
      ]
     },
     "metadata": {},
     "output_type": "display_data"
    }
   ],
   "source": [
    "ax=sns.tsplot(cost_data,time=np.arange(epoch+1))\n",
    "ax.set_xlabel('epoch')\n",
    "ax.set_ylabel('cost')\n",
    "plt.show()"
   ]
  },
  {
   "cell_type": "code",
   "execution_count": 20,
   "metadata": {},
   "outputs": [
    {
     "data": {
      "image/png": "[encoded data removed]",
      "text/plain": [
       "<matplotlib.figure.Figure at 0x7f054b8f3588>"
      ]
     },
     "metadata": {},
     "output_type": "display_data"
    }
   ],
   "source": [
    "b=final_theta[0]    #b截距\n",
    "m=final_theta[1]    #m是斜率\n",
    "plt.scatter(data.population,data.profit,label='Training data')\n",
    "plt.plot(data.population,data.population*m+b,label='predict')\n",
    "plt.legend(loc=2)\n",
    "plt.show()\n"
   ]
  },
  {
   "cell_type": "markdown",
   "metadata": {},
   "source": [
    "# 3 选修章节"
   ]
  },
  {
   "cell_type": "code",
   "execution_count": 21,
   "metadata": {},
   "outputs": [
    {
     "data": {
      "text/html": [
       "<div>\n",
       "<style>\n",
       "    .dataframe thead tr:only-child th {\n",
       "        text-align: right;\n",
       "    }\n",
       "\n",
       "    .dataframe thead th {\n",
       "        text-align: left;\n",
       "    }\n",
       "\n",
       "    .dataframe tbody tr th {\n",
       "        vertical-align: top;\n",
       "    }\n",
       "</style>\n",
       "<table border=\"1\" class=\"dataframe\">\n",
       "  <thead>\n",
       "    <tr style=\"text-align: right;\">\n",
       "      <th></th>\n",
       "      <th>square</th>\n",
       "      <th>room</th>\n",
       "      <th>price</th>\n",
       "    </tr>\n",
       "  </thead>\n",
       "  <tbody>\n",
       "    <tr>\n",
       "      <th>0</th>\n",
       "      <td>2104</td>\n",
       "      <td>3</td>\n",
       "      <td>399900</td>\n",
       "    </tr>\n",
       "    <tr>\n",
       "      <th>1</th>\n",
       "      <td>1600</td>\n",
       "      <td>3</td>\n",
       "      <td>329900</td>\n",
       "    </tr>\n",
       "    <tr>\n",
       "      <th>2</th>\n",
       "      <td>2400</td>\n",
       "      <td>3</td>\n",
       "      <td>369000</td>\n",
       "    </tr>\n",
       "    <tr>\n",
       "      <th>3</th>\n",
       "      <td>1416</td>\n",
       "      <td>2</td>\n",
       "      <td>232000</td>\n",
       "    </tr>\n",
       "    <tr>\n",
       "      <th>4</th>\n",
       "      <td>3000</td>\n",
       "      <td>4</td>\n",
       "      <td>539900</td>\n",
       "    </tr>\n",
       "  </tbody>\n",
       "</table>\n",
       "</div>"
      ],
      "text/plain": [
       "   square  room   price\n",
       "0    2104     3  399900\n",
       "1    1600     3  329900\n",
       "2    2400     3  369000\n",
       "3    1416     2  232000\n",
       "4    3000     4  539900"
      ]
     },
     "execution_count": 21,
     "metadata": {},
     "output_type": "execute_result"
    }
   ],
   "source": [
    "raw_data=pd.read_csv('ex1data2.txt',names=['square','room','price'])\n",
    "raw_data.head()"
   ]
  },
  {
   "cell_type": "code",
   "execution_count": 22,
   "metadata": {},
   "outputs": [
    {
     "data": {
      "text/html": [
       "<div>\n",
       "<style>\n",
       "    .dataframe thead tr:only-child th {\n",
       "        text-align: right;\n",
       "    }\n",
       "\n",
       "    .dataframe thead th {\n",
       "        text-align: left;\n",
       "    }\n",
       "\n",
       "    .dataframe tbody tr th {\n",
       "        vertical-align: top;\n",
       "    }\n",
       "</style>\n",
       "<table border=\"1\" class=\"dataframe\">\n",
       "  <thead>\n",
       "    <tr style=\"text-align: right;\">\n",
       "      <th></th>\n",
       "      <th>square</th>\n",
       "      <th>room</th>\n",
       "      <th>price</th>\n",
       "    </tr>\n",
       "  </thead>\n",
       "  <tbody>\n",
       "    <tr>\n",
       "      <th>0</th>\n",
       "      <td>0.130010</td>\n",
       "      <td>-0.223675</td>\n",
       "      <td>0.475747</td>\n",
       "    </tr>\n",
       "    <tr>\n",
       "      <th>1</th>\n",
       "      <td>-0.504190</td>\n",
       "      <td>-0.223675</td>\n",
       "      <td>-0.084074</td>\n",
       "    </tr>\n",
       "    <tr>\n",
       "      <th>2</th>\n",
       "      <td>0.502476</td>\n",
       "      <td>-0.223675</td>\n",
       "      <td>0.228626</td>\n",
       "    </tr>\n",
       "    <tr>\n",
       "      <th>3</th>\n",
       "      <td>-0.735723</td>\n",
       "      <td>-1.537767</td>\n",
       "      <td>-0.867025</td>\n",
       "    </tr>\n",
       "    <tr>\n",
       "      <th>4</th>\n",
       "      <td>1.257476</td>\n",
       "      <td>1.090417</td>\n",
       "      <td>1.595389</td>\n",
       "    </tr>\n",
       "  </tbody>\n",
       "</table>\n",
       "</div>"
      ],
      "text/plain": [
       "     square      room     price\n",
       "0  0.130010 -0.223675  0.475747\n",
       "1 -0.504190 -0.223675 -0.084074\n",
       "2  0.502476 -0.223675  0.228626\n",
       "3 -0.735723 -1.537767 -0.867025\n",
       "4  1.257476  1.090417  1.595389"
      ]
     },
     "execution_count": 22,
     "metadata": {},
     "output_type": "execute_result"
    }
   ],
   "source": [
    "data=normaliaze_feature(raw_data)   #归一化\n",
    "data.head()"
   ]
  },
  {
   "cell_type": "markdown",
   "metadata": {},
   "source": [
    "# 2. multi-var batch gradient decent（多变量批量梯度下降）"
   ]
  },
  {
   "cell_type": "code",
   "execution_count": 23,
   "metadata": {},
   "outputs": [
    {
     "name": "stdout",
     "output_type": "stream",
     "text": [
      "(47, 3) <class 'numpy.ndarray'>\n",
      "(47,) <class 'numpy.ndarray'>\n"
     ]
    }
   ],
   "source": [
    "X=get_X(data)\n",
    "print(X.shape,type(X))\n",
    "y=get_y(data)\n",
    "print(y.shape,type(y))"
   ]
  },
  {
   "cell_type": "code",
   "execution_count": 24,
   "metadata": {
    "collapsed": true
   },
   "outputs": [],
   "source": [
    "alpha=0.01\n",
    "epoch=500\n",
    "theta=np.zeros((X.shape[1]))"
   ]
  },
  {
   "cell_type": "code",
   "execution_count": 37,
   "metadata": {
    "collapsed": true
   },
   "outputs": [],
   "source": [
    "final_theta,cost_data=batch_gradient(theta,X,y,epoch,alpha=alpha)"
   ]
  },
  {
   "cell_type": "code",
   "execution_count": 38,
   "metadata": {},
   "outputs": [
    {
     "data": {
      "image/png": "[encoded data removed]",
      "text/plain": [
       "<matplotlib.figure.Figure at 0x7f054b67d668>"
      ]
     },
     "metadata": {},
     "output_type": "display_data"
    }
   ],
   "source": [
    "ax=sns.tsplot(cost_data,time=np.arange(epoch+1))\n",
    "ax.set_xlabel('epoch')\n",
    "ax.set_ylabel('cost')\n",
    "plt.show()"
   ]
  },
  {
   "cell_type": "code",
   "execution_count": 39,
   "metadata": {},
   "outputs": [
    {
     "data": {
      "text/plain": [
       "array([ 0.03595616, -0.0069401 ,  0.9680825 ])"
      ]
     },
     "execution_count": 39,
     "metadata": {},
     "output_type": "execute_result"
    }
   ],
   "source": [
    "final_theta"
   ]
  },
  {
   "cell_type": "markdown",
   "metadata": {},
   "source": [
    "# 学习率"
   ]
  },
  {
   "cell_type": "code",
   "execution_count": 28,
   "metadata": {},
   "outputs": [
    {
     "name": "stdout",
     "output_type": "stream",
     "text": [
      "[  1.00000000e-05   3.00000000e-05   2.15443469e-04   6.46330407e-04\n",
      "   4.64158883e-03   1.39247665e-02   1.00000000e-01   3.00000000e-01]\n"
     ]
    }
   ],
   "source": [
    "base=np.logspace(-1,-5,num=4)\n",
    "candidate=np.sort(np.concatenate((base,base*3)))\n",
    "print(candidate)"
   ]
  },
  {
   "cell_type": "code",
   "execution_count": 29,
   "metadata": {},
   "outputs": [
    {
     "data": {
      "image/png": "[encoded data removed]",
      "text/plain": [
       "<matplotlib.figure.Figure at 0x7f054b7dfda0>"
      ]
     },
     "metadata": {},
     "output_type": "display_data"
    }
   ],
   "source": [
    "epoch=50\n",
    "fig,ax=plt.subplots(figsize=(16,9))\n",
    "\n",
    "for alpha in candidate:\n",
    "    _,cost_data=batch_gradient(theta,X,y,epoch,alpha=alpha)\n",
    "    ax.plot(np.arange(epoch+1),cost_data,label=alpha)\n",
    "    \n",
    "ax.set_xlabel('epoch',fontsize=18)\n",
    "ax.set_ylabel('cost',fontsize=18)\n",
    "ax.legend(bbox_to_anchor=(1.05, 1), loc=2, borderaxespad=0.)\n",
    "ax.set_title('learning rate',fontsize=18)\n",
    "plt.show()"
   ]
  },
  {
   "cell_type": "markdown",
   "metadata": {},
   "source": [
    "# # 4. normal equation（正规方程）\n",
    "正规方程是通过求解下面的方程来找出使得代价函数最小的参数的：$\\frac{\\partial }{\\partial {{\\theta }_{j}}}J\\left( {{\\theta }_{j}} \\right)=0$ 。\n",
    " 假设我们的训练集特征矩阵为 X（包含了${{x}_{0}}=1$）并且我们的训练集结果为向量 y，则利用正规方程解出向量 $\\theta ={{\\left( {{X}^{T}}X \\right)}^{-1}}{{X}^{T}}y$ 。\n",
    "上标T代表矩阵转置，上标-1 代表矩阵的逆。设矩阵$A={{X}^{T}}X$，则：${{\\left( {{X}^{T}}X \\right)}^{-1}}={{A}^{-1}}$\n",
    "\n",
    "梯度下降与正规方程的比较：\n",
    "\n",
    "梯度下降：需要选择学习率α，需要多次迭代，当特征数量n大时也能较好适用，适用于各种类型的模型\t\n",
    "\n",
    "正规方程：不需要选择学习率α，一次计算得出，需要计算${{\\left( {{X}^{T}}X \\right)}^{-1}}$，如果特征数量n较大则运算代价大，因为矩阵逆的计算时间复杂度为O(n3)，通常来说当n小于10000 时还是可以接受的，只适用于线性模型，不适合逻辑回归模型等其他模型"
   ]
  },
  {
   "cell_type": "code",
   "execution_count": 30,
   "metadata": {
    "collapsed": true
   },
   "outputs": [],
   "source": [
    "def normalEqn(X,y):\n",
    "    theta=np.linalg.inv(X.T@X)@X.T@y\n",
    "    return theta"
   ]
  },
  {
   "cell_type": "code",
   "execution_count": 31,
   "metadata": {},
   "outputs": [
    {
     "data": {
      "text/plain": [
       "array([ -6.10622664e-16,   9.71445147e-17,   1.00000000e+00])"
      ]
     },
     "execution_count": 31,
     "metadata": {},
     "output_type": "execute_result"
    }
   ],
   "source": [
    "final_theta2=normalEqn(X,y)\n",
    "final_theta2"
   ]
  },
  {
   "cell_type": "markdown",
   "metadata": {},
   "source": [
    "# Tensorflow 实现"
   ]
  },
  {
   "cell_type": "code",
   "execution_count": 42,
   "metadata": {
    "scrolled": true
   },
   "outputs": [
    {
     "name": "stdout",
     "output_type": "stream",
     "text": [
      "(47, 3) <class 'numpy.ndarray'>\n",
      "(47, 1) <class 'numpy.ndarray'>\n"
     ]
    }
   ],
   "source": [
    "X_data=get_X(data)\n",
    "print(X_data.shape,type(X_data))\n",
    "y_data=get_y(data).reshape(len(X_data),1)\n",
    "print(y_data.shape,type(y_data))"
   ]
  },
  {
   "cell_type": "code",
   "execution_count": 43,
   "metadata": {
    "collapsed": true
   },
   "outputs": [],
   "source": [
    "epoch=2000\n",
    "alpha=0.01"
   ]
  },
  {
   "cell_type": "code",
   "execution_count": 44,
   "metadata": {
    "collapsed": true,
    "scrolled": true
   },
   "outputs": [],
   "source": [
    "optimizer_dict={'GD': tf.train.GradientDescentOptimizer,\n",
    "                'Adagrad': tf.train.AdagradOptimizer,\n",
    "                'Adam': tf.train.AdamOptimizer,\n",
    "                'Ftrl': tf.train.FtrlOptimizer,\n",
    "                'RMS': tf.train.RMSPropOptimizer\n",
    "               }\n",
    "results = []\n",
    "for name in optimizer_dict:\n",
    "    res = linear_regression(X_data, y_data, alpha, epoch, optimizer=optimizer_dict[name])\n",
    "    res['name'] = name\n",
    "    results.append(res)"
   ]
  },
  {
   "cell_type": "code",
   "execution_count": 45,
   "metadata": {},
   "outputs": [
    {
     "data": {
      "image/png": "[encoded data removed]",
      "text/plain": [
       "<matplotlib.figure.Figure at 0x7f054877bf60>"
      ]
     },
     "metadata": {},
     "output_type": "display_data"
    }
   ],
   "source": [
    "fig, ax = plt.subplots(figsize=(16, 9))\n",
    "\n",
    "for res in results: \n",
    "    loss_data = res['loss']\n",
    "    \n",
    "#     print('for optimizer {}'.format(res['name']))\n",
    "#     print('final parameters\\n', res['parameters'])\n",
    "#     print('final loss={}\\n'.format(loss_data[-1]))\n",
    "    ax.plot(np.arange(len(loss_data)), loss_data, label=res['name'])\n",
    "\n",
    "ax.set_xlabel('epoch', fontsize=18)\n",
    "ax.set_ylabel('cost', fontsize=18)\n",
    "ax.legend(bbox_to_anchor=(1.05, 1), loc=2, borderaxespad=0.)\n",
    "ax.set_title('different optimizer', fontsize=18)\n",
    "plt.show()"
   ]
  },
  {
   "cell_type": "code",
   "execution_count": null,
   "metadata": {
    "collapsed": true
   },
   "outputs": [],
   "source": []
  },
  {
   "cell_type": "code",
   "execution_count": null,
   "metadata": {
    "collapsed": true
   },
   "outputs": [],
   "source": []
  }
 ],
 "metadata": {
  "kernelspec": {
   "display_name": "Python 3",
   "language": "python",
   "name": "python3"
  },
  "language_info": {
   "codemirror_mode": {
    "name": "ipython",
    "version": 3
   },
   "file_extension": ".py",
   "mimetype": "text/x-python",
   "name": "python",
   "nbconvert_exporter": "python",
   "pygments_lexer": "ipython3",
   "version": "3.6.1"
  }
 },
 "nbformat": 4,
 "nbformat_minor": 2
}
